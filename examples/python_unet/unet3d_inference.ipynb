{
 "cells": [
  {
   "cell_type": "markdown",
   "id": "cd7a3990",
   "metadata": {},
   "source": [
    "## Import MIGraphX Python Library\n",
    "\n",
    "References:<br>\n",
    "https://github.com/naomifridman/Unet_Brain_tumor_segmentation"
   ]
  },
  {
   "cell_type": "code",
   "execution_count": 1,
   "id": "3930d7b8",
   "metadata": {},
   "outputs": [],
   "source": [
    "import migraphx\n",
    "from PIL import Image\n",
    "import numpy as np\n",
    "import matplotlib.pyplot as plt\n",
    "import time"
   ]
  },
  {
   "cell_type": "markdown",
   "id": "b350c333",
   "metadata": {},
   "source": [
    "## Fetch U-NET ONNX Model"
   ]
  },
  {
   "cell_type": "code",
   "execution_count": 2,
   "id": "02a7b7de",
   "metadata": {},
   "outputs": [
    {
     "name": "stdout",
     "output_type": "stream",
     "text": [
      "File ‘224_224_160_dyanmic_bs.onnx’ already there; not retrieving.\r\n",
      "\r\n"
     ]
    }
   ],
   "source": [
    "!wget -nc https://zenodo.org/record/3928973/files/224_224_160_dyanmic_bs.onnx"
   ]
  },
  {
   "cell_type": "markdown",
   "id": "a6cfe6e9",
   "metadata": {},
   "source": [
    "## Load ONNX Model"
   ]
  },
  {
   "cell_type": "code",
   "execution_count": 3,
   "id": "e05a13dc",
   "metadata": {},
   "outputs": [],
   "source": [
    "model = migraphx.parse_onnx(\"224_224_160_dyanmic_bs.onnx\")"
   ]
  },
  {
   "cell_type": "code",
   "execution_count": 4,
   "id": "a9da08ba",
   "metadata": {},
   "outputs": [],
   "source": [
    "model.compile(migraphx.get_target(\"gpu\"))"
   ]
  },
  {
   "cell_type": "markdown",
   "id": "80edb6f1",
   "metadata": {},
   "source": [
    "## Print model parameters"
   ]
  },
  {
   "cell_type": "code",
   "execution_count": 5,
   "id": "fd5c3269",
   "metadata": {},
   "outputs": [
    {
     "name": "stdout",
     "output_type": "stream",
     "text": [
      "['input']\n",
      "{'input': float_type, {1, 4, 224, 224, 160}, {32112640, 8028160, 35840, 160, 1}}\n"
     ]
    }
   ],
   "source": [
    "print(model.get_parameter_names())\n",
    "print(model.get_parameter_shapes())"
   ]
  },
  {
   "cell_type": "code",
   "execution_count": 6,
   "id": "5e87ba0c",
   "metadata": {},
   "outputs": [],
   "source": [
    "img_type=['FLAIR', 'T1','T1CE', 'T2']"
   ]
  },
  {
   "cell_type": "code",
   "execution_count": 7,
   "id": "0d061634",
   "metadata": {},
   "outputs": [],
   "source": [
    "import os, sys, glob\n",
    "import numpy as np\n",
    "import SimpleITK as sitk\n",
    "import sys\n",
    "import os\n",
    "import pandas as pd\n",
    "import re\n",
    "import matplotlib.pyplot as plt\n",
    "import matplotlib.gridspec as gridspec\n",
    "from sklearn.utils import shuffle\n",
    "%matplotlib inline"
   ]
  },
  {
   "cell_type": "code",
   "execution_count": 8,
   "id": "e734cf64",
   "metadata": {},
   "outputs": [],
   "source": [
    "import pandas as pd\n",
    "import numpy as np\n",
    "from skimage.util.dtype import dtype_range\n",
    "from skimage.util import img_as_ubyte\n",
    "from skimage import exposure\n",
    "from skimage.morphology import disk\n",
    "from skimage.filters import rank\n",
    "from scipy.ndimage import gaussian_filter\n",
    "from skimage import data\n",
    "from skimage import img_as_float\n",
    "from skimage.morphology import reconstruction\n",
    "from scipy import ndimage\n",
    "import random"
   ]
  },
  {
   "cell_type": "code",
   "execution_count": 9,
   "id": "35e77530",
   "metadata": {},
   "outputs": [],
   "source": [
    "red_multiplier = [1, 0.2, 0.2]\n",
    "green_multiplier = [0.35,0.75,0.25]\n",
    "blue_multiplier = [0,0.5,1.]#[0,0.25,0.9]\n",
    "yellow_multiplier = [1,1,0.25]\n",
    "brown_miltiplier = [40./255, 26./255, 13./255]\n",
    "my_colors=[blue_multiplier, yellow_multiplier, brown_miltiplier]"
   ]
  },
  {
   "cell_type": "code",
   "execution_count": 10,
   "id": "67215522",
   "metadata": {},
   "outputs": [],
   "source": [
    "from importlib import reload  # Python 3.4+ only."
   ]
  },
  {
   "cell_type": "code",
   "execution_count": 11,
   "id": "b9fb0b97",
   "metadata": {},
   "outputs": [
    {
     "data": {
      "text/plain": [
       "<module 'visualization_utils' from '/code/AMDMIGraphX/AMDMIGraphX/examples/python_unet/visualization_utils.py'>"
      ]
     },
     "execution_count": 11,
     "metadata": {},
     "output_type": "execute_result"
    }
   ],
   "source": [
    "import visualization_utils  as vu\n",
    "reload(vu)"
   ]
  },
  {
   "cell_type": "code",
   "execution_count": 30,
   "id": "41525367",
   "metadata": {},
   "outputs": [],
   "source": [
    "def show_img_lable(img, lbl, modality = 0):\n",
    "    \n",
    "    if (len(lbl.shape)> 2):\n",
    "        lbl[0,0,3]=1 # for uniqe colors in plot\n",
    "        lbl = lbl_from_cat(lbl)\n",
    "    vu.show_n_images([img[:,:,modality],lbl, show_lable_on_image4(img[:,:,modality],lbl)],\n",
    "                    titles = [img_type[modality], 'Label', 'Label on '+ img_type[modality]]);\n"
   ]
  },
  {
   "cell_type": "code",
   "execution_count": 31,
   "id": "54c28f5a",
   "metadata": {},
   "outputs": [],
   "source": [
    "def read_img_sitk(img):\n",
    "    inputImage = sitk.ReadImage( img )\n",
    "    inputImage = sitk.Cast( inputImage, sitk.sitkFloat32 )\n",
    "    image = sitk.GetArrayFromImage(inputImage)\n",
    "    return image"
   ]
  },
  {
   "cell_type": "code",
   "execution_count": 32,
   "id": "312e5e4e",
   "metadata": {},
   "outputs": [],
   "source": [
    "# ima files are of the form\n",
    "# BraTS19_TCIA04_192_1_flair.nii.gz  \n",
    "# BraTS19_TCIA04_192_1_t1.nii.gz    \n",
    "# BraTS19_TCIA04_192_1_t2.nii.gz\n",
    "# BraTS19_TCIA04_192_1_seg.nii.gz    \n",
    "# BraTS19_TCIA04_192_1_t1ce.nii.gz\n",
    "\n",
    "def read_image_into_numpy(dirpath):\n",
    "    \n",
    "    img_id = os.path.basename(dirpath)\n",
    "    np_image=np.zeros((4, 160, 224, 224), dtype=np.float32)\n",
    "    \n",
    "    ## Flair\n",
    "    flair_img = os.path.join(dirpath, img_id+'_flair.nii')\n",
    "    if (not os.path.isfile(flair_img)):\n",
    "        print(flair_img,' not found aborting')\n",
    "        return None\n",
    "    np_image[0] = read_img_sitk(flair_img)\n",
    "        \n",
    "    ## T1\n",
    "    t1_nb4_img = os.path.join(dirpath, img_id+'_t1_nb4.nii')\n",
    "    if (not os.path.isfile(t1_nb4_img)):\n",
    "        #print(t1_nb4_img,' not found')\n",
    "        t1_img = os.path.join(dirpath, img_id+'_t1.nii')\n",
    "        if (not os.path.isfile(t1_img)):\n",
    "            print(t1_img,' not found aborting')\n",
    "            return None\n",
    "        np_image[1] = read_img_sitk(t1_img)\n",
    "    else:\n",
    "        np_image[1] = read_img_sitk(t1_nb4_img)    \n",
    "            \n",
    "    ## T1CE\n",
    "    t1ce_nb4_img = os.path.join(dirpath, img_id+'_t1ce_nb4.nii')\n",
    "    if (not os.path.isfile(t1ce_nb4_img)):\n",
    "        #print(t1ce_nb4_img,' not found')\n",
    "        t1ce_img = os.path.join(dirpath, img_id+'_t1ce.nii')\n",
    "        if (not os.path.isfile(t1ce_img)):\n",
    "            print(t1ce_img,' not found aborting')\n",
    "            return None\n",
    "        np_image[2] = read_img_sitk(t1ce_img)\n",
    "    else:\n",
    "        np_image[2] = read_img_sitk(t1ce_nb4_img)    \n",
    "    \n",
    "        \n",
    "    ## T2\n",
    "    t2_img = os.path.join(dirpath, img_id+'_t2.nii')\n",
    "    if (not os.path.isfile(t2_img)):\n",
    "        print(t2_img,' not found aborting')\n",
    "        return None\n",
    "    np_image[3] = read_img_sitk(t2_img)\n",
    "\n",
    "    return np_image"
   ]
  },
  {
   "cell_type": "code",
   "execution_count": 33,
   "id": "0d4af2cd",
   "metadata": {},
   "outputs": [],
   "source": [
    "def read_lable_into_numpy(dirpath):\n",
    "    \n",
    "    img_id = os.path.basename(dirpath)\n",
    "    np_image=np.zeros((160, 224, 224), dtype=np.int)\n",
    "    \n",
    "    ## lable\n",
    "    lable_img = os.path.join(dirpath, img_id+'_seg.nii')\n",
    "    if (not os.path.isfile(lable_img)):\n",
    "        print(lable_img,' not found aborting')\n",
    "        return None\n",
    "    np_image = read_img_sitk(lable_img).astype(int)\n",
    "\n",
    "    return np_image"
   ]
  },
  {
   "cell_type": "code",
   "execution_count": 34,
   "id": "7710b7e6",
   "metadata": {},
   "outputs": [],
   "source": [
    "def bbox2_3D(img):\n",
    "\n",
    "    r = np.any(img, axis=(1, 2))\n",
    "    c = np.any(img, axis=(0, 2))\n",
    "    z = np.any(img, axis=(0, 1))\n",
    "\n",
    "    rmin, rmax = np.where(r)[0][[0, -1]]\n",
    "    cmin, cmax = np.where(c)[0][[0, -1]]\n",
    "    zmin, zmax = np.where(z)[0][[0, -1]]\n",
    "\n",
    "    return [rmin, rmax, cmin, cmax, zmin, zmax]"
   ]
  },
  {
   "cell_type": "markdown",
   "id": "d1e6c886",
   "metadata": {},
   "source": [
    "Multiple image inputs:\n",
    "- Native (T1)\n",
    "- Post-contrast T1-weighted (T1Gd)\n",
    "- T2-weighted (T2)\n",
    "- T2 Fluid Attenuated Inversion Recovery (T2-FLAIR)"
   ]
  },
  {
   "cell_type": "code",
   "execution_count": 50,
   "id": "982e9dcf",
   "metadata": {},
   "outputs": [
    {
     "ename": "ValueError",
     "evalue": "could not broadcast input array from shape (155,240,240) into shape (160,224,224)",
     "output_type": "error",
     "traceback": [
      "\u001b[0;31m---------------------------------------------------------------------------\u001b[0m",
      "\u001b[0;31mValueError\u001b[0m                                Traceback (most recent call last)",
      "\u001b[0;32m<ipython-input-50-de1f99ada0f4>\u001b[0m in \u001b[0;36m<module>\u001b[0;34m\u001b[0m\n\u001b[1;32m      1\u001b[0m \u001b[0mnp_img\u001b[0m \u001b[0;34m=\u001b[0m \u001b[0mread_image_into_numpy\u001b[0m\u001b[0;34m(\u001b[0m\u001b[0;34m'/code/AMDMIGraphX/sampleData/HGG/BraTS19_2013_10_1/resampled/BraTS19_2013_10_1'\u001b[0m\u001b[0;34m)\u001b[0m\u001b[0;34m\u001b[0m\u001b[0;34m\u001b[0m\u001b[0m\n\u001b[0;32m----> 2\u001b[0;31m \u001b[0mnp_img\u001b[0m \u001b[0;34m=\u001b[0m \u001b[0mread_image_into_numpy\u001b[0m\u001b[0;34m(\u001b[0m\u001b[0;34m'/code/AMDMIGraphX/sampleData/LGG/BraTS19_TCIA10_202_1'\u001b[0m\u001b[0;34m)\u001b[0m\u001b[0;34m\u001b[0m\u001b[0;34m\u001b[0m\u001b[0m\n\u001b[0m\u001b[1;32m      3\u001b[0m \u001b[0mnp_img\u001b[0m\u001b[0;34m.\u001b[0m\u001b[0mshape\u001b[0m\u001b[0;34m\u001b[0m\u001b[0;34m\u001b[0m\u001b[0m\n",
      "\u001b[0;32m<ipython-input-32-f1e1d948a45d>\u001b[0m in \u001b[0;36mread_image_into_numpy\u001b[0;34m(dirpath)\u001b[0m\n\u001b[1;32m     16\u001b[0m         \u001b[0mprint\u001b[0m\u001b[0;34m(\u001b[0m\u001b[0mflair_img\u001b[0m\u001b[0;34m,\u001b[0m\u001b[0;34m' not found aborting'\u001b[0m\u001b[0;34m)\u001b[0m\u001b[0;34m\u001b[0m\u001b[0;34m\u001b[0m\u001b[0m\n\u001b[1;32m     17\u001b[0m         \u001b[0;32mreturn\u001b[0m \u001b[0;32mNone\u001b[0m\u001b[0;34m\u001b[0m\u001b[0;34m\u001b[0m\u001b[0m\n\u001b[0;32m---> 18\u001b[0;31m     \u001b[0mnp_image\u001b[0m\u001b[0;34m[\u001b[0m\u001b[0;36m0\u001b[0m\u001b[0;34m]\u001b[0m \u001b[0;34m=\u001b[0m \u001b[0mread_img_sitk\u001b[0m\u001b[0;34m(\u001b[0m\u001b[0mflair_img\u001b[0m\u001b[0;34m)\u001b[0m\u001b[0;34m\u001b[0m\u001b[0;34m\u001b[0m\u001b[0m\n\u001b[0m\u001b[1;32m     19\u001b[0m \u001b[0;34m\u001b[0m\u001b[0m\n\u001b[1;32m     20\u001b[0m     \u001b[0;31m## T1\u001b[0m\u001b[0;34m\u001b[0m\u001b[0;34m\u001b[0m\u001b[0;34m\u001b[0m\u001b[0m\n",
      "\u001b[0;31mValueError\u001b[0m: could not broadcast input array from shape (155,240,240) into shape (160,224,224)"
     ]
    }
   ],
   "source": [
    "np_img = read_image_into_numpy('/code/AMDMIGraphX/sampleData/HGG/BraTS19_2013_10_1/resampled/BraTS19_2013_10_1')\n",
    "np_img = read_image_into_numpy('/code/AMDMIGraphX/sampleData/LGG/BraTS19_TCIA10_202_1')\n",
    "np_img.shape"
   ]
  },
  {
   "cell_type": "code",
   "execution_count": 49,
   "id": "e3ac8cd3",
   "metadata": {},
   "outputs": [
    {
     "data": {
      "text/plain": [
       "<Figure size 432x360 with 0 Axes>"
      ]
     },
     "metadata": {},
     "output_type": "display_data"
    },
    {
     "data": {
      "image/png": "[encoded data removed]",
      "text/plain": [
       "<Figure size 1440x2880 with 4 Axes>"
      ]
     },
     "metadata": {
      "needs_background": "light"
     },
     "output_type": "display_data"
    }
   ],
   "source": [
    "vu.show_n_images(np_img[:,100,:,:], titles=img_type)"
   ]
  },
  {
   "cell_type": "code",
   "execution_count": 37,
   "id": "eaa47eed",
   "metadata": {},
   "outputs": [
    {
     "data": {
      "text/plain": [
       "<Figure size 432x360 with 0 Axes>"
      ]
     },
     "metadata": {},
     "output_type": "display_data"
    },
    {
     "data": {
      "image/png": "[encoded data removed]",
      "text/plain": [
       "<Figure size 1440x2880 with 3 Axes>"
      ]
     },
     "metadata": {
      "needs_background": "light"
     },
     "output_type": "display_data"
    }
   ],
   "source": [
    "np_lbl = read_lable_into_numpy('/code/AMDMIGraphX/sampleData/HGG/BraTS19_2013_10_1/resampled/BraTS19_2013_10_1')\n",
    "np_lbl.shape\n",
    "img1 = vu.show_lable_on_image4(np_img[1,100,:,:], np_lbl[100])\n",
    "img2 = vu.show_lable_on_image(np_img[1,100,:,:], np_lbl[100])\n",
    "vu.show_n_images([img1,img2,np_img[0,100]])"
   ]
  },
  {
   "cell_type": "code",
   "execution_count": 25,
   "id": "35823037",
   "metadata": {},
   "outputs": [],
   "source": [
    "def get_pred(img, threshold=0.5):\n",
    "    out_img=img.copy()\n",
    "    out_img=np.where(out_img>threshold, 1,0)\n",
    "    return out_img\n",
    "\n",
    "def prediction_from_probabily_3D(img):\n",
    "    \n",
    "    int_image = get_pred(img)\n",
    "    return lbl_from_cat(int_image)\n",
    "\n",
    "def get_prediction_for_batch(pred_batch, threshold=0.5):\n",
    "    \n",
    "    out_batch = np.zeros((pred_batch.shape[0], 240, 240),dtype=np.int)\n",
    "    \n",
    "    for j in range(pred_batch.shape[0]):\n",
    "        pred = get_prediction(pred_batch[j])\n",
    "        if (pred.sum()>0):\n",
    "            print(j, np.unique(pred , return_counts=True))\n",
    "        out_batch[j] = lbl_from_cat(get_prediction(pred_batch[j]))\n",
    "    return out_batch\n",
    "\n",
    "def get_label_from_pred_batch(labels_batch):\n",
    "    \n",
    "    batch = np.zeros((labels_batch.shape[0], 224, 224), np.uint8)\n",
    "     \n",
    "    for j in range(labels_batch.shape[0]):\n",
    "        batch[j]=get_pred(labels_batch[j,:,:,0])+\\\n",
    "                get_pred(labels_batch[j,:,:,1])*2+\\\n",
    "        get_pred(labels_batch[j,:,:,2])*4\n",
    "\n",
    "    return batch\n",
    "\n",
    "def predict_3D_img_prob(np_file):\n",
    "    \n",
    "    np_img = np.load(np_file)\n",
    "    for_pred_img = np.zeros((160, 224, 224, 4), np.float32)\n",
    "\n",
    "    # Normalize image\n",
    "    for_pred_img = normalize_3D_image(np_img)\n",
    "\n",
    "    mdl_pred_img =  model.predict(for_pred_img)\n",
    "\n",
    "    #pred_label = prediction_from_probabily_3D(mdl_pred_img)\n",
    "\n",
    "    return mdl_pred_img\n"
   ]
  },
  {
   "cell_type": "code",
   "execution_count": 42,
   "id": "f29a92d6",
   "metadata": {},
   "outputs": [
    {
     "name": "stdout",
     "output_type": "stream",
     "text": [
      "3\n",
      "(240, 240, 155)\n",
      "(1.0, 1.0, 1.0)\n",
      "3\n",
      "(240, 240, 155)\n",
      "(1.0, 1.0, 1.0)\n",
      "3\n",
      "(240, 240, 155)\n",
      "(1.0, 1.0, 1.0)\n",
      "3\n",
      "(240, 240, 155)\n",
      "(1.0, 1.0, 1.0)\n",
      "3\n",
      "(240, 240, 155)\n",
      "(1.0, 1.0, 1.0)\n"
     ]
    }
   ],
   "source": [
    "def resample(data):\n",
    "    dimension = data.GetDimension()\n",
    "    print(dimension)\n",
    "    print(data.GetSize())\n",
    "    print(data.GetSpacing())\n",
    "\n",
    "    # Physical image size corresponds to the largest physical size in the training set, or any other arbitrary size.\n",
    "    reference_physical_size = np.zeros(dimension)\n",
    "    #for img in data:\n",
    "    reference_physical_size[:] = [(sz-1)*spc if sz*spc>mx  else mx for sz,spc,mx in zip(data.GetSize(), data.GetSpacing(), reference_physical_size)]\n",
    "    \n",
    "    # Create the reference image with a zero origin, identity direction cosine matrix and dimension     \n",
    "    reference_origin = np.zeros(dimension)\n",
    "    reference_direction = np.identity(dimension).flatten()\n",
    "    \n",
    "    # Select arbitrary number of pixels per dimension, smallest size that yields desired results \n",
    "    # or the required size of a pretrained network (e.g. VGG-16 224x224), transfer learning. This will \n",
    "    # often result in non-isotropic pixel spacing.\n",
    "    reference_size = [224,224,160]\n",
    "    reference_spacing = [ phys_sz/(sz-1) for sz,phys_sz in zip(reference_size, reference_physical_size) ]\n",
    "    \n",
    "    # Another possibility is that you want isotropic pixels, then you can specify the image size for one of\n",
    "    # the axes and the others are determined by this choice. Below we choose to set the x axis to 128 and the\n",
    "    # spacing set accordingly. \n",
    "    # Uncomment the following lines to use this strategy.\n",
    "    #reference_size_x = 128\n",
    "    #reference_spacing = [reference_physical_size[0]/(reference_size_x-1)]*dimension\n",
    "    #reference_size = [int(phys_sz/(spc) + 1) for phys_sz,spc in zip(reference_physical_size, reference_spacing)]\n",
    "    \n",
    "    reference_image = sitk.Image(reference_size, data.GetPixelIDValue())\n",
    "    reference_image.SetOrigin(reference_origin)\n",
    "    reference_image.SetSpacing(reference_spacing)\n",
    "    reference_image.SetDirection(reference_direction)\n",
    "    \n",
    "    # Always use the TransformContinuousIndexToPhysicalPoint to compute an indexed point's physical coordinates as \n",
    "    # this takes into account size, spacing and direction cosines. For the vast majority of images the direction \n",
    "    # cosines are the identity matrix, but when this isn't the case simply multiplying the central index by the \n",
    "    # spacing will not yield the correct coordinates resulting in a long debugging session. \n",
    "    reference_center = np.array(reference_image.TransformContinuousIndexToPhysicalPoint(np.array(reference_image.GetSize())/2.0))\n",
    "    return reference_image\n",
    "    \n",
    "inputImage = sitk.ReadImage('/code/AMDMIGraphX/sampleData/HGG/BraTS19_2013_10_1/BraTS19_2013_10_1_flair.nii')\n",
    "#inputImage = sitk.Cast( inputImage, sitk.sitkFloat32 )\n",
    "resampledImage = resample(inputImage)\n",
    "sitk.WriteImage(resampledImage, '/code/AMDMIGraphX/sampleData/HGG/BraTS19_2013_10_1/resampled/BraTS19_2013_10_1/BraTS19_2013_10_1_flair.nii')\n",
    "\n",
    "inputImage = sitk.ReadImage('/code/AMDMIGraphX/sampleData/HGG/BraTS19_2013_10_1/BraTS19_2013_10_1_t1.nii')\n",
    "#inputImage = sitk.Cast( inputImage, sitk.sitkFloat32 )\n",
    "resampledImage = resample(inputImage)\n",
    "sitk.WriteImage(resampledImage, '/code/AMDMIGraphX/sampleData/HGG/BraTS19_2013_10_1/resampled/BraTS19_2013_10_1/BraTS19_2013_10_1_t1.nii')\n",
    "\n",
    "inputImage = sitk.ReadImage('/code/AMDMIGraphX/sampleData/HGG/BraTS19_2013_10_1/BraTS19_2013_10_1_t1ce.nii')\n",
    "#inputImage = sitk.Cast( inputImage, sitk.sitkFloat32 )\n",
    "resampledImage = resample(inputImage)\n",
    "sitk.WriteImage(resampledImage, '/code/AMDMIGraphX/sampleData/HGG/BraTS19_2013_10_1/resampled/BraTS19_2013_10_1/BraTS19_2013_10_1_t1ce.nii')\n",
    "\n",
    "inputImage = sitk.ReadImage('/code/AMDMIGraphX/sampleData/HGG/BraTS19_2013_10_1/BraTS19_2013_10_1_t2.nii')\n",
    "#inputImage = sitk.Cast( inputImage, sitk.sitkFloat32 )\n",
    "resampledImage = resample(inputImage)\n",
    "sitk.WriteImage(resampledImage, '/code/AMDMIGraphX/sampleData/HGG/BraTS19_2013_10_1/resampled/BraTS19_2013_10_1/BraTS19_2013_10_1_t2.nii')\n",
    "\n",
    "inputImage = sitk.ReadImage('/code/AMDMIGraphX/sampleData/HGG/BraTS19_2013_10_1/BraTS19_2013_10_1_seg.nii')\n",
    "#inputImage = sitk.Cast( inputImage, sitk.sitkFloat32 )\n",
    "resampledImage = resample(inputImage)\n",
    "sitk.WriteImage(resampledImage, '/code/AMDMIGraphX/sampleData/HGG/BraTS19_2013_10_1/resampled/BraTS19_2013_10_1/BraTS19_2013_10_1_seg.nii')"
   ]
  },
  {
   "cell_type": "code",
   "execution_count": null,
   "id": "2e69a82c",
   "metadata": {},
   "outputs": [],
   "source": [
    "#np_img and np_lbl have the image data and label data in numpy\n",
    "np_img = read_image_into_numpy('/code/AMDMIGraphX/sampleData/HGG/BraTS19_2013_10_1/resampled')\n",
    "print(np_img.shape)\n",
    "print(np_img.strides)\n",
    "np_lbl = read_lable_into_numpy('/code/AMDMIGraphX/sampleData/HGG/BraTS19_2013_10_1/resampled')\n",
    "print(np_lbl.shape)\n",
    "\n",
    "assert(np_lbl[np_lbl==3].sum()==0)\n",
    "np_lbl = np.where(np_lbl==4, 3, np_lbl)\n",
    "print(np_lbl.shape)\n",
    "\n",
    "#Remember the MIGraphX model inputs\n",
    "print(model.get_parameter_names())\n",
    "print(model.get_parameter_shapes())\n",
    "\n",
    "#np_img = np.expand_dims(np_img, 0)\n",
    "print(np_img.shape)\n",
    "print(np_img.strides)\n",
    "\n",
    "input_im = np.zeros((1,4,224,224,160),dtype='float32') \n",
    "np.lib.stride_tricks.as_strided(input_im, shape=np_img.shape, strides=input_im.strides)[:] = np_img #getting correct stride\n",
    "print(input_im.strides)\n",
    "print(input_im.shape)\n",
    "\n",
    "result = model.run({\n",
    "         \"input\": input_im\n",
    "     })"
   ]
  }
 ],
 "metadata": {
  "kernelspec": {
   "display_name": "Python 3",
   "language": "python",
   "name": "python3"
  },
  "language_info": {
   "codemirror_mode": {
    "name": "ipython",
    "version": 3
   },
   "file_extension": ".py",
   "mimetype": "text/x-python",
   "name": "python",
   "nbconvert_exporter": "python",
   "pygments_lexer": "ipython3",
   "version": "3.6.9"
  }
 },
 "nbformat": 4,
 "nbformat_minor": 5
}
